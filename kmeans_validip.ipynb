{
 "cells": [
  {
   "cell_type": "code",
   "execution_count": 9,
   "id": "fd9b25b8",
   "metadata": {},
   "outputs": [
    {
     "name": "stdout",
     "output_type": "stream",
     "text": [
      "IP address 0     192.168.202.138\n",
      "1     192.168.202.138\n",
      "2     192.168.202.138\n",
      "3     192.168.202.138\n",
      "4     192.168.202.138\n",
      "           ...       \n",
      "95       192.168.27.1\n",
      "96    192.168.202.138\n",
      "97       192.168.27.1\n",
      "98       192.168.27.1\n",
      "99       192.168.27.1\n",
      "Name: Source, Length: 100, dtype: object is not valid\n",
      "IP address 111.00.00.000 is not valid\n"
     ]
    }
   ],
   "source": [
    "import ipaddress \n",
    "import pandas as pd\n",
    "import numpy as np\n",
    "\n",
    "# Read .csv from file and restrict # of rows,nrows=1000\n",
    "#testpcapdata:https://www.netresec.com/?page=PcapFiles\n",
    "df = pd.DataFrame(df, columns = ['Source'])\n",
    "df = pd.read_csv(\"pcaptest.csv\",nrows=100)\n",
    "\n",
    "#print(df.Source)\n",
    "\n",
    "def validate_ip_address(address):\n",
    "    try:\n",
    "        ip = ipaddress.ip_address(address)\n",
    "        print(\"IP address {} is valid. The object returned is {}\".format(address, ip))\n",
    "    except ValueError:\n",
    "        print(\"IP address {} is not valid\".format(address)) \n",
    "# Test an ip address to see if it is valid from the table.Source(ip address field), or individually\n",
    "validate_ip_address(df.Source)\n",
    "validate_ip_address(\"111.00.00.000\")\n",
    "        \n",
    "        "
   ]
  },
  {
   "cell_type": "code",
   "execution_count": null,
   "id": "b6ab4de6",
   "metadata": {},
   "outputs": [],
   "source": []
  },
  {
   "cell_type": "code",
   "execution_count": null,
   "id": "24ce6e9b",
   "metadata": {},
   "outputs": [],
   "source": []
  },
  {
   "cell_type": "code",
   "execution_count": null,
   "id": "0bdc606e",
   "metadata": {},
   "outputs": [],
   "source": []
  },
  {
   "cell_type": "code",
   "execution_count": null,
   "id": "a15f32fa",
   "metadata": {},
   "outputs": [],
   "source": []
  }
 ],
 "metadata": {
  "kernelspec": {
   "display_name": "Python 3.9.7 ('base')",
   "language": "python",
   "name": "python397jvsc74a57bd0810b03fa6dadb93f2a100e03f453dd0abc982cae4ee29a86008553bbf8e59c16"
  },
  "language_info": {
   "codemirror_mode": {
    "name": "ipython",
    "version": 3
   },
   "file_extension": ".py",
   "mimetype": "text/x-python",
   "name": "python",
   "nbconvert_exporter": "python",
   "pygments_lexer": "ipython3",
   "version": "3.9.7"
  }
 },
 "nbformat": 4,
 "nbformat_minor": 5
}
