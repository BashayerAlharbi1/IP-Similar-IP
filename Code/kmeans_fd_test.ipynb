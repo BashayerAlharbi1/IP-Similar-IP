{
 "cells": [
  {
   "cell_type": "code",
   "execution_count": 1,
   "id": "72f1460c",
   "metadata": {},
   "outputs": [],
   "source": [
    "import pandas as pd\n",
    "import numpy as np\n",
    "import matplotlib.pyplot as plt\n",
    "from sklearn.cluster import KMeans\n",
    "from sklearn.preprocessing import MinMaxScaler"
   ]
  },
  {
   "cell_type": "code",
   "execution_count": 2,
   "id": "fa873611",
   "metadata": {},
   "outputs": [],
   "source": [
    "#read .csv \n",
    "#testpcapdata:https://www.netresec.com/?page=PcapFiles\n",
    "df = pd.read_csv(\"pcap_test.csv\",nrows=1000)#,encoding=\"ISO-8859-1\")\n",
    "df = pd.DataFrame(df, columns = ['Source','Time','Protocol'])\n",
    "\n",
    "#-----------------------------------------------------------------\n",
    "#print(df.sample(50))\n",
    "#df.to_csv('example_03153.csv', index=True)\n",
    "\n",
    "#------------------------------------------------------------------\n",
    "#data = {'Source': ['192.168.27.253','192.168.27.253','192.168.27.253','198.168.212.83','195.168.21.80','192.168.21.08','192.168.202.83','192.168.27.253','192.168.27.253','192.168.27.253','192.168.27.253','192.168.202.83','192.168.21.80','192.168.21.78','192.168.202.83','192.168.27.253'],\n",
    "       # 'Destination':['192.168.27.253','192.168.210.44','192.169.28.254','192.168.212.88','192.168.23.84','192.168.24.78','192.168.342.99','192.170.28.544'],\n",
    "#'Time':[58.90,267.45,1249.55,3596.89,766.66,435.65,6571.78,895.90,588.90,2676.45,1245.55,359.89,7666.66,435.65,657.78,899.90],\n",
    "#'Protocol':['TCP','TCP','SMB','ICMP','SMB','TCP','SMB','TCP','TCP','TCP','SMB','ICMP','SMB','SMB','ICMP','TCP']\n",
    "#}\n",
    "#df = pd.DataFrame(data, columns = ['Source','Time','Protocol'])\n",
    "#print(df)"
   ]
  },
  {
   "cell_type": "code",
   "execution_count": 3,
   "id": "119ca36e",
   "metadata": {},
   "outputs": [],
   "source": [
    "df['Protocol'] = pd.Categorical(df[\"Protocol\"])\n",
    "df[\"Protocol\"] = df[\"Protocol\"].cat.codes\n",
    "\n",
    "df['Source'] = pd.Categorical(df[\"Source\"])\n",
    "df[\"Source\"] = df[\"Source\"].cat.codes\n",
    "df['Time'] = pd.Categorical(df[\"Time\"])\n",
    "df[\"Time\"] = df[\"Time\"].cat.codes"
   ]
  },
  {
   "cell_type": "code",
   "execution_count": 4,
   "id": "b9f91aa1",
   "metadata": {},
   "outputs": [
    {
     "data": {
      "text/html": [
       "<div>\n",
       "<style scoped>\n",
       "    .dataframe tbody tr th:only-of-type {\n",
       "        vertical-align: middle;\n",
       "    }\n",
       "\n",
       "    .dataframe tbody tr th {\n",
       "        vertical-align: top;\n",
       "    }\n",
       "\n",
       "    .dataframe thead th {\n",
       "        text-align: right;\n",
       "    }\n",
       "</style>\n",
       "<table border=\"1\" class=\"dataframe\">\n",
       "  <thead>\n",
       "    <tr style=\"text-align: right;\">\n",
       "      <th></th>\n",
       "      <th>Source</th>\n",
       "      <th>Time</th>\n",
       "      <th>Protocol</th>\n",
       "    </tr>\n",
       "  </thead>\n",
       "  <tbody>\n",
       "    <tr>\n",
       "      <th>0</th>\n",
       "      <td>0</td>\n",
       "      <td>0</td>\n",
       "      <td>5</td>\n",
       "    </tr>\n",
       "    <tr>\n",
       "      <th>1</th>\n",
       "      <td>0</td>\n",
       "      <td>0</td>\n",
       "      <td>5</td>\n",
       "    </tr>\n",
       "    <tr>\n",
       "      <th>2</th>\n",
       "      <td>0</td>\n",
       "      <td>0</td>\n",
       "      <td>5</td>\n",
       "    </tr>\n",
       "    <tr>\n",
       "      <th>3</th>\n",
       "      <td>0</td>\n",
       "      <td>0</td>\n",
       "      <td>5</td>\n",
       "    </tr>\n",
       "    <tr>\n",
       "      <th>4</th>\n",
       "      <td>0</td>\n",
       "      <td>0</td>\n",
       "      <td>5</td>\n",
       "    </tr>\n",
       "  </tbody>\n",
       "</table>\n",
       "</div>"
      ],
      "text/plain": [
       "   Source  Time  Protocol\n",
       "0       0     0         5\n",
       "1       0     0         5\n",
       "2       0     0         5\n",
       "3       0     0         5\n",
       "4       0     0         5"
      ]
     },
     "execution_count": 4,
     "metadata": {},
     "output_type": "execute_result"
    }
   ],
   "source": [
    "x = df.iloc[:, [0, 1, 2]].values   \n",
    "df.head()"
   ]
  },
  {
   "cell_type": "code",
   "execution_count": 12,
   "id": "f7834e28",
   "metadata": {},
   "outputs": [
    {
     "data": {
      "text/html": [
       "<div>\n",
       "<style scoped>\n",
       "    .dataframe tbody tr th:only-of-type {\n",
       "        vertical-align: middle;\n",
       "    }\n",
       "\n",
       "    .dataframe tbody tr th {\n",
       "        vertical-align: top;\n",
       "    }\n",
       "\n",
       "    .dataframe thead th {\n",
       "        text-align: right;\n",
       "    }\n",
       "</style>\n",
       "<table border=\"1\" class=\"dataframe\">\n",
       "  <thead>\n",
       "    <tr style=\"text-align: right;\">\n",
       "      <th></th>\n",
       "      <th>Source</th>\n",
       "      <th>Time</th>\n",
       "      <th>Protocol</th>\n",
       "      <th>Cluster</th>\n",
       "    </tr>\n",
       "  </thead>\n",
       "  <tbody>\n",
       "    <tr>\n",
       "      <th>0</th>\n",
       "      <td>0.0</td>\n",
       "      <td>0.0</td>\n",
       "      <td>0.833333</td>\n",
       "      <td>1.0</td>\n",
       "    </tr>\n",
       "    <tr>\n",
       "      <th>1</th>\n",
       "      <td>0.0</td>\n",
       "      <td>0.0</td>\n",
       "      <td>0.833333</td>\n",
       "      <td>1.0</td>\n",
       "    </tr>\n",
       "    <tr>\n",
       "      <th>2</th>\n",
       "      <td>0.0</td>\n",
       "      <td>0.0</td>\n",
       "      <td>0.833333</td>\n",
       "      <td>1.0</td>\n",
       "    </tr>\n",
       "    <tr>\n",
       "      <th>3</th>\n",
       "      <td>0.0</td>\n",
       "      <td>0.0</td>\n",
       "      <td>0.833333</td>\n",
       "      <td>1.0</td>\n",
       "    </tr>\n",
       "    <tr>\n",
       "      <th>4</th>\n",
       "      <td>0.0</td>\n",
       "      <td>0.0</td>\n",
       "      <td>0.833333</td>\n",
       "      <td>1.0</td>\n",
       "    </tr>\n",
       "  </tbody>\n",
       "</table>\n",
       "</div>"
      ],
      "text/plain": [
       "   Source  Time  Protocol  Cluster\n",
       "0     0.0   0.0  0.833333      1.0\n",
       "1     0.0   0.0  0.833333      1.0\n",
       "2     0.0   0.0  0.833333      1.0\n",
       "3     0.0   0.0  0.833333      1.0\n",
       "4     0.0   0.0  0.833333      1.0"
      ]
     },
     "execution_count": 12,
     "metadata": {},
     "output_type": "execute_result"
    }
   ],
   "source": [
    "scaler = MinMaxScaler()\n",
    "norm_df = df.copy()\n",
    "def minmaxscaler(x):\n",
    "    for Protocol, Time in x.iteritems():\n",
    "        x[Protocol] = scaler.fit_transform(np.array(Time).reshape(-1, 1))\n",
    "    \n",
    "minmaxscaler(norm_df)\n",
    "norm_df.head()"
   ]
  },
  {
   "cell_type": "code",
   "execution_count": 13,
   "id": "a3ef758c",
   "metadata": {},
   "outputs": [
    {
     "data": {
      "text/plain": [
       "17.2820546947656"
      ]
     },
     "execution_count": 13,
     "metadata": {},
     "output_type": "execute_result"
    }
   ],
   "source": [
    "kmeans.inertia_"
   ]
  },
  {
   "cell_type": "code",
   "execution_count": 14,
   "id": "823754fb",
   "metadata": {},
   "outputs": [
    {
     "data": {
      "text/plain": [
       "Text(0.5, 1.0, 'Elbow Curve to find optimum K')"
      ]
     },
     "execution_count": 14,
     "metadata": {},
     "output_type": "execute_result"
    },
    {
     "data": {
      "image/png": "[encoded data removed]",
      "text/plain": [
       "<Figure size 720x360 with 1 Axes>"
      ]
     },
     "metadata": {
      "needs_background": "light"
     },
     "output_type": "display_data"
    }
   ],
   "source": [
    "k = list(range(2,8))\n",
    "sum_of_squared_distances = []\n",
    "for i in k:\n",
    "    kmeans = KMeans(n_clusters=i)\n",
    "    kmeans.fit(norm_df)\n",
    "    sum_of_squared_distances.append(kmeans.inertia_)\n",
    "\n",
    "plt.figure(figsize=(10, 5))\n",
    "plt.plot(k, sum_of_squared_distances, 'go--')\n",
    "plt.xlabel('Number of Clusters')\n",
    "plt.ylabel('Within Cluster Sum of squares')\n",
    "plt.title('Elbow Curve to find optimum K')"
   ]
  },
  {
   "cell_type": "code",
   "execution_count": 7,
   "id": "03cbc3ab",
   "metadata": {},
   "outputs": [
    {
     "name": "stdout",
     "output_type": "stream",
     "text": [
      "[4 4 4 4 4 4 4 4 4 4 4 4 4 4 4 4 0 4 4 4 4 4 4 4 4 4 4 0 0 0 0 0 0 0 0 0 0\n",
      " 0 0 0 0 0 0 0 0 0 0 0 0 0 4 4 4 4 4 4 4 0 4 4 4 4 4 4 4 4 4 4 4 4 4 4 4 4\n",
      " 4 0 4 4 4 4 4 4 4 4 4 0 0 0 0 0 0 0 0 4 0 0 4 0 0 0 0 0 0 0 0 0 0 0 0 0 0\n",
      " 0 0 0 0 0 0 0 0 4 4 0 4 4 4 4 4 4 4 4 4 4 4 4 4 4 4 4 4 4 4 4 4 4 4 4 4 4\n",
      " 4 4 4 4 4 4 4 4 4 0 0 0 0 0 0 0 0 0 0 0 0 0 0 0 0 0 0 4 0 0 4 4 4 4 4 0 4\n",
      " 4 4 0 4 4 4 4 0 4 4 4 4 4 4 4 0 4 4 4 4 4 4 4 0 4 4 4 4 4 4 4 4 0 0 0 0 4\n",
      " 4 4 4 4 4 4 4 4 4 4 4 4 4 4 4 4 4 4 4 4 4 4 4 4 4 4 4 4 4 4 4 4 4 4 0 4 4\n",
      " 0 0 0 4 0 0 0 0 0 0 0 4 0 0 0 0 0 0 0 4 0 0 0 0 0 0 4 4 0 0 0 4 0 4 0 0 0\n",
      " 0 0 0 4 4 4 4 4 4 4 4 4 0 4 4 4 4 4 4 4 4 4 4 4 4 4 4 4 4 4 4 4 0 4 4 4 4\n",
      " 4 0 0 0 0 0 0 0 0 0 0 0 0 0 0 0 0 0 0 0 2 0 2 2 2 0 0 0 0 0 0 0 2 0 2 0 0\n",
      " 2 2 2 2 2 2 2 2 2 2 2 0 2 2 2 2 2 2 2 2 2 2 2 2 2 2 2 2 2 2 2 2 2 2 0 0 0\n",
      " 0 0 0 0 0 0 0 0 0 0 0 0 0 0 0 0 0 0 0 0 2 2 2 2 2 2 2 2 2 2 2 2 2 3 2 2 2\n",
      " 2 2 2 2 2 2 2 2 2 2 3 2 2 2 2 2 2 2 3 3 3 3 3 3 3 3 3 3 3 3 3 3 3 3 3 3 2\n",
      " 3 3 3 3 3 3 3 3 2 3 2 2 3 2 2 2 3 2 3 2 2 2 2 2 2 2 2 2 2 2 2 2 2 3 2 2 2\n",
      " 2 2 2 2 2 2 2 2 2 2 2 2 2 2 2 3 2 2 2 2 2 2 2 2 3 3 2 2 2 2 2 2 2 2 2 2 2\n",
      " 3 3 3 2 3 3 3 3 3 3 3 3 3 3 3 3 3 3 3 3 3 3 2 2 3 2 2 2 2 2 2 2 2 2 2 2 2\n",
      " 2 2 2 2 2 2 2 2 2 2 2 2 2 3 2 2 2 2 2 2 3 3 2 3 3 3 3 3 3 3 3 3 3 3 3 3 3\n",
      " 1 3 3 3 3 3 3 3 3 3 3 3 3 3 3 3 2 2 2 2 2 2 2 2 2 2 2 2 2 2 2 2 2 2 2 2 2\n",
      " 2 2 2 2 2 2 3 2 2 2 2 2 2 3 3 3 3 3 3 3 3 3 1 3 1 3 3 3 3 3 1 1 3 3 3 3 3\n",
      " 3 3 1 3 3 1 1 1 1 1 1 1 1 1 1 1 1 1 1 1 1 1 1 1 1 3 1 1 1 1 1 1 1 1 1 1 1\n",
      " 1 1 3 3 3 1 3 3 3 3 1 3 3 1 3 3 3 3 1 3 3 3 3 3 3 3 1 3 1 1 3 1 1 1 3 1 1\n",
      " 1 1 3 1 1 3 1 1 3 1 1 1 3 1 1 1 1 1 1 1 3 1 1 1 1 3 1 1 3 1 1 3 1 1 1 1 1\n",
      " 1 1 1 1 1 1 1 1 1 1 1 1 1 1 1 1 1 1 1 1 1 3 1 1 1 1 1 1 1 1 1 1 1 1 1 1 1\n",
      " 1 1 3 1 3 1 1 1 1 3 1 1 1 1 1 1 1 1 1 1 1 1 1 1 1 1 3 1 1 1 1 3 1 1 1 1 1\n",
      " 1 1 3 1 1 1 1 1 1 3 1 1 1 1 1 1 1 1 1 1 1 1 1 1 3 1 1 1 1 1 1 3 1 1 1 1 3\n",
      " 1 1 1 1 1 3 1 1 1 1 1 1 1 1 1 3 1 1 1 1 1 1 1 3 1 1 1 1 1 1 3 1 1 1 1 1 1\n",
      " 3 1 1 1 1 1 1 1 1 1 1 3 1 1 1 1 1 1 1 1 3 1 1 1 1 1 3 1 1 1 1 1 1 1 3 1 1\n",
      " 1]\n"
     ]
    }
   ],
   "source": [
    "# Instantiating\n",
    "kmeans5 = KMeans(n_clusters = 5)\n",
    "\n",
    "# Training the model\n",
    "kmeans5.fit(norm_df)\n",
    "\n",
    "# predicting\n",
    "y_pred = kmeans5.fit_predict(norm_df)\n",
    "print(y_pred)\n",
    "\n",
    "# Storing the y_pred values in a new column\n",
    "df['Cluster'] = y_pred+1 #to start the cluster number from 1"
   ]
  },
  {
   "cell_type": "code",
   "execution_count": 15,
   "id": "a8d7373c",
   "metadata": {},
   "outputs": [
    {
     "data": {
      "text/html": [
       "<div>\n",
       "<style scoped>\n",
       "    .dataframe tbody tr th:only-of-type {\n",
       "        vertical-align: middle;\n",
       "    }\n",
       "\n",
       "    .dataframe tbody tr th {\n",
       "        vertical-align: top;\n",
       "    }\n",
       "\n",
       "    .dataframe thead th {\n",
       "        text-align: right;\n",
       "    }\n",
       "</style>\n",
       "<table border=\"1\" class=\"dataframe\">\n",
       "  <thead>\n",
       "    <tr style=\"text-align: right;\">\n",
       "      <th></th>\n",
       "      <th>Source</th>\n",
       "      <th>Time</th>\n",
       "      <th>Protocol</th>\n",
       "    </tr>\n",
       "  </thead>\n",
       "  <tbody>\n",
       "    <tr>\n",
       "      <th>1</th>\n",
       "      <td>0.728805</td>\n",
       "      <td>0.265832</td>\n",
       "      <td>0.805243</td>\n",
       "    </tr>\n",
       "    <tr>\n",
       "      <th>2</th>\n",
       "      <td>0.124538</td>\n",
       "      <td>0.953622</td>\n",
       "      <td>0.827236</td>\n",
       "    </tr>\n",
       "    <tr>\n",
       "      <th>3</th>\n",
       "      <td>0.027867</td>\n",
       "      <td>0.605756</td>\n",
       "      <td>0.827471</td>\n",
       "    </tr>\n",
       "    <tr>\n",
       "      <th>4</th>\n",
       "      <td>0.727273</td>\n",
       "      <td>0.770550</td>\n",
       "      <td>0.833333</td>\n",
       "    </tr>\n",
       "    <tr>\n",
       "      <th>5</th>\n",
       "      <td>0.029437</td>\n",
       "      <td>0.201732</td>\n",
       "      <td>0.829365</td>\n",
       "    </tr>\n",
       "  </tbody>\n",
       "</table>\n",
       "</div>"
      ],
      "text/plain": [
       "     Source      Time  Protocol\n",
       "1  0.728805  0.265832  0.805243\n",
       "2  0.124538  0.953622  0.827236\n",
       "3  0.027867  0.605756  0.827471\n",
       "4  0.727273  0.770550  0.833333\n",
       "5  0.029437  0.201732  0.829365"
      ]
     },
     "execution_count": 15,
     "metadata": {},
     "output_type": "execute_result"
    }
   ],
   "source": [
    "centroids = kmeans5.cluster_centers_\n",
    "centroids = pd.DataFrame(centroids, columns=['Source', 'Time', 'Protocol'])\n",
    "centroids.index = np.arange(1, len(centroids)+1) # Start the index from 1\n",
    "centroids"
   ]
  },
  {
   "cell_type": "code",
   "execution_count": 16,
   "id": "d00ff995",
   "metadata": {},
   "outputs": [
    {
     "data": {
      "text/plain": [
       "<AxesSubplot:xlabel='Source', ylabel='Time'>"
      ]
     },
     "execution_count": 16,
     "metadata": {},
     "output_type": "execute_result"
    },
    {
     "data": {
      "image/png": "[encoded data removed]",
      "text/plain": [
       "<Figure size 864x432 with 1 Axes>"
      ]
     },
     "metadata": {
      "needs_background": "light"
     },
     "output_type": "display_data"
    }
   ],
   "source": [
    "import seaborn as sns\n",
    "plt.figure(figsize=(12,6))\n",
    "sns.set_palette(\"pastel\")\n",
    "sns.scatterplot(x=df['Source'], y = df['Time'], hue=df['Cluster'], palette='bright')"
   ]
  },
  {
   "cell_type": "code",
   "execution_count": 17,
   "id": "2ebda686",
   "metadata": {},
   "outputs": [
    {
     "data": {
      "text/plain": [
       "<AxesSubplot:xlabel='Source', ylabel='Protocol'>"
      ]
     },
     "execution_count": 17,
     "metadata": {},
     "output_type": "execute_result"
    },
    {
     "data": {
      "image/png": "[encoded data removed]",
      "text/plain": [
       "<Figure size 864x432 with 1 Axes>"
      ]
     },
     "metadata": {
      "needs_background": "light"
     },
     "output_type": "display_data"
    }
   ],
   "source": [
    "import seaborn as sns\n",
    "plt.figure(figsize=(12,6))\n",
    "sns.set_palette(\"pastel\")\n",
    "sns.scatterplot(x=df['Source'], y = df['Protocol'], hue=df['Cluster'], palette='bright')"
   ]
  },
  {
   "cell_type": "code",
   "execution_count": null,
   "id": "bac94d78",
   "metadata": {},
   "outputs": [],
   "source": []
  },
  {
   "cell_type": "code",
   "execution_count": null,
   "id": "94f1d056",
   "metadata": {},
   "outputs": [],
   "source": []
  }
 ],
 "metadata": {
  "kernelspec": {
   "display_name": "Python 3.9.7 ('base')",
   "language": "python",
   "name": "python397jvsc74a57bd0810b03fa6dadb93f2a100e03f453dd0abc982cae4ee29a86008553bbf8e59c16"
  },
  "language_info": {
   "codemirror_mode": {
    "name": "ipython",
    "version": 3
   },
   "file_extension": ".py",
   "mimetype": "text/x-python",
   "name": "python",
   "nbconvert_exporter": "python",
   "pygments_lexer": "ipython3",
   "version": "3.9.7"
  }
 },
 "nbformat": 4,
 "nbformat_minor": 5
}
